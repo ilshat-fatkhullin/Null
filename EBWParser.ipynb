{
 "cells": [
  {
   "cell_type": "code",
   "execution_count": 151,
   "metadata": {
    "collapsed": true
   },
   "outputs": [],
   "source": [
    "import pandas as pd\n",
    "import numpy as np"
   ]
  },
  {
   "cell_type": "code",
   "execution_count": 152,
   "metadata": {
    "collapsed": false
   },
   "outputs": [],
   "source": [
    "df = pd.DataFrame.from_csv('data/part1.csv')"
   ]
  },
  {
   "cell_type": "code",
   "execution_count": 153,
   "metadata": {
    "collapsed": false
   },
   "outputs": [],
   "source": [
    "def ExpParse(Data):\n",
    "    __Start1 = 'не требуется'\n",
    "    __Start2 = '1–3'\n",
    "    __Start3 = '3-6'\n",
    "    __Start4 = '6'\n",
    "    StartIndex = Data.find(__Start1)\n",
    "    if (StartIndex != -1):\n",
    "        return 0\n",
    "    StartIndex = Data.find(__Start2)\n",
    "    if (StartIndex != -1):\n",
    "        return 1\n",
    "    StartIndex = Data.find(__Start3)\n",
    "    if (StartIndex != -1):\n",
    "        return 2\n",
    "    StartIndex = Data.find(__Start4)\n",
    "    if (StartIndex != -1):\n",
    "        return 3\n",
    "    else:\n",
    "        return np.nan"
   ]
  },
  {
   "cell_type": "code",
   "execution_count": 154,
   "metadata": {
    "collapsed": true
   },
   "outputs": [],
   "source": [
    "def WorkingTypeParse(Data):\n",
    "    if Data == 'полный день':\n",
    "        return 0\n",
    "    if Data == 'сменный график':\n",
    "        return 1\n",
    "    if Data == 'гибкий график':\n",
    "        return 2\n",
    "    if Data == 'удаленная работа':\n",
    "        return 3\n",
    "    if Data == 'вахтовый метод':\n",
    "        return 4"
   ]
  },
  {
   "cell_type": "code",
   "execution_count": 155,
   "metadata": {
    "collapsed": true
   },
   "outputs": [],
   "source": [
    "def BusynessParse(Data):\n",
    "    if Data == 'Полная занятость':\n",
    "        return 0\n",
    "    if Data == 'Частичная занятость':\n",
    "        return 1\n",
    "    if Data == 'Проектная/Временная работа':\n",
    "        return 2\n",
    "    if Data == 'Волонтерство':\n",
    "        return 3\n",
    "    if Data == 'Стажировка':\n",
    "        return 4"
   ]
  },
  {
   "cell_type": "code",
   "execution_count": 156,
   "metadata": {
    "collapsed": false
   },
   "outputs": [],
   "source": [
    "clear_df = pd.DataFrame(df.description)\n",
    "clear_df['exp'] = df['meta'].apply(lambda x: ExpParse(x))\n",
    "clear_df['busyness'] = df['work_hours'].apply(lambda x: BusynessParse(x))\n",
    "clear_df['working_type'] = df['created_at'].apply(lambda x: WorkingTypeParse(x))"
   ]
  },
  {
   "cell_type": "code",
   "execution_count": 157,
   "metadata": {
    "collapsed": false
   },
   "outputs": [
    {
     "data": {
      "text/html": [
       "<div>\n",
       "<table border=\"1\" class=\"dataframe\">\n",
       "  <thead>\n",
       "    <tr style=\"text-align: right;\">\n",
       "      <th></th>\n",
       "      <th>description</th>\n",
       "      <th>exp</th>\n",
       "      <th>busyness</th>\n",
       "      <th>working_type</th>\n",
       "    </tr>\n",
       "  </thead>\n",
       "  <tbody>\n",
       "    <tr>\n",
       "      <th>0</th>\n",
       "      <td>&lt;div class=\"b-vacancy-desc-wrapper\" itemprop=\"...</td>\n",
       "      <td>0</td>\n",
       "      <td>0</td>\n",
       "      <td>3.0</td>\n",
       "    </tr>\n",
       "    <tr>\n",
       "      <th>1</th>\n",
       "      <td>&lt;div class=\"b-vacancy-desc-wrapper\" itemprop=\"...</td>\n",
       "      <td>0</td>\n",
       "      <td>0</td>\n",
       "      <td>3.0</td>\n",
       "    </tr>\n",
       "    <tr>\n",
       "      <th>2</th>\n",
       "      <td>&lt;div class=\"b-vacancy-desc-wrapper\" itemprop=\"...</td>\n",
       "      <td>0</td>\n",
       "      <td>0</td>\n",
       "      <td>3.0</td>\n",
       "    </tr>\n",
       "    <tr>\n",
       "      <th>3</th>\n",
       "      <td>&lt;div class=\"b-vacancy-desc-wrapper\" itemprop=\"...</td>\n",
       "      <td>0</td>\n",
       "      <td>0</td>\n",
       "      <td>3.0</td>\n",
       "    </tr>\n",
       "    <tr>\n",
       "      <th>4</th>\n",
       "      <td>&lt;div class=\"b-vacancy-desc-wrapper\" itemprop=\"...</td>\n",
       "      <td>0</td>\n",
       "      <td>0</td>\n",
       "      <td>3.0</td>\n",
       "    </tr>\n",
       "  </tbody>\n",
       "</table>\n",
       "</div>"
      ],
      "text/plain": [
       "                                         description  exp  busyness  \\\n",
       "0  <div class=\"b-vacancy-desc-wrapper\" itemprop=\"...    0         0   \n",
       "1  <div class=\"b-vacancy-desc-wrapper\" itemprop=\"...    0         0   \n",
       "2  <div class=\"b-vacancy-desc-wrapper\" itemprop=\"...    0         0   \n",
       "3  <div class=\"b-vacancy-desc-wrapper\" itemprop=\"...    0         0   \n",
       "4  <div class=\"b-vacancy-desc-wrapper\" itemprop=\"...    0         0   \n",
       "\n",
       "   working_type  \n",
       "0           3.0  \n",
       "1           3.0  \n",
       "2           3.0  \n",
       "3           3.0  \n",
       "4           3.0  "
      ]
     },
     "execution_count": 157,
     "metadata": {},
     "output_type": "execute_result"
    }
   ],
   "source": [
    "clear_df.head()"
   ]
  },
  {
   "cell_type": "code",
   "execution_count": 158,
   "metadata": {
    "collapsed": true
   },
   "outputs": [],
   "source": [
    "clear_df.to_csv('data/EBW.csv')"
   ]
  },
  {
   "cell_type": "code",
   "execution_count": null,
   "metadata": {
    "collapsed": true
   },
   "outputs": [],
   "source": []
  }
 ],
 "metadata": {
  "anaconda-cloud": {},
  "kernelspec": {
   "display_name": "Python [conda root]",
   "language": "python",
   "name": "conda-root-py"
  },
  "language_info": {
   "codemirror_mode": {
    "name": "ipython",
    "version": 3
   },
   "file_extension": ".py",
   "mimetype": "text/x-python",
   "name": "python",
   "nbconvert_exporter": "python",
   "pygments_lexer": "ipython3",
   "version": "3.5.2"
  }
 },
 "nbformat": 4,
 "nbformat_minor": 1
}
